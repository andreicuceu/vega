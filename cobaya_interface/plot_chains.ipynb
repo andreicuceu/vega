{
 "cells": [
  {
   "cell_type": "code",
   "execution_count": 1,
   "id": "f1c63e26-3103-47e4-a45e-aef8359a2500",
   "metadata": {
    "tags": []
   },
   "outputs": [],
   "source": [
    "#from cobaya import load_samples\n",
    "#from cobaya.yaml import yaml_load_file\n",
    "#import getdist.plots as gdplt\n",
    "#import os\n",
    "import numpy as np\n",
    "import matplotlib.pyplot as plt"
   ]
  },
  {
   "cell_type": "code",
   "execution_count": 2,
   "id": "23b2d34e-46dd-4dec-99ca-3042a4aac714",
   "metadata": {
    "tags": []
   },
   "outputs": [
    {
     "name": "stdout",
     "output_type": "stream",
     "text": [
      "GetDist Version: 1.5.3, Matplotlib version: 3.9.2\n"
     ]
    }
   ],
   "source": [
    "# Show plots inline, and load main getdist plot module and samples class\n",
    "# DOESNT WORK\n",
    "%matplotlib inline\n",
    "%config InlineBackend.figure_format = 'retina'\n",
    "import sys, os\n",
    "sys.path.insert(0,os.path.realpath(os.path.join(os.getcwd(),'..')))\n",
    "from getdist import plots, MCSamples\n",
    "import getdist\n",
    "import matplotlib.pyplot as plt\n",
    "import IPython\n",
    "print('GetDist Version: %s, Matplotlib version: %s'%(getdist.__version__, plt.matplotlib.__version__))"
   ]
  },
  {
   "cell_type": "code",
   "execution_count": 3,
   "id": "4310500c-91ef-4027-bb69-3f41809110c3",
   "metadata": {
    "tags": []
   },
   "outputs": [],
   "source": [
    "info = yaml_load_file(\"info_sample.yaml\")"
   ]
  },
  {
   "cell_type": "code",
   "execution_count": 4,
   "id": "635824cb-ada4-4e8a-900a-d6d7a543cbe9",
   "metadata": {
    "tags": []
   },
   "outputs": [],
   "source": [
    "gd_sample = load_samples(info[\"output\"], to_getdist=True)"
   ]
  },
  {
   "cell_type": "code",
   "execution_count": 5,
   "id": "ae645445-db23-43e3-9a0a-c25667217656",
   "metadata": {
    "tags": []
   },
   "outputs": [
    {
     "data": {
      "text/plain": [
       "<getdist.plots.GetDistPlotter at 0x7f27348e02f0>"
      ]
     },
     "metadata": {},
     "output_type": "display_data"
    }
   ],
   "source": [
    "folder, name = os.path.split(os.path.abspath(info[\"output\"]))\n",
    "gdplot = gdplt.get_subplot_plotter(chain_dir=folder)\n",
    "gdplot.triangle_plot(\"mcmc_bias\", [\"bias_LYA\"], filled=True)\n",
    "display(gdplot)"
   ]
  },
  {
   "cell_type": "code",
   "execution_count": 13,
   "id": "05ad92df-02a9-4b11-adf4-baa0b9c7233e",
   "metadata": {
    "tags": []
   },
   "outputs": [
    {
     "data": {
      "text/plain": [
       "'/pscratch/sd/w/wmturner/LyA-directfit/mcmc'"
      ]
     },
     "execution_count": 13,
     "metadata": {},
     "output_type": "execute_result"
    }
   ],
   "source": [
    "folder"
   ]
  },
  {
   "cell_type": "code",
   "execution_count": 6,
   "id": "4d296552-7c57-49c5-9da5-5c710b0d2870",
   "metadata": {
    "tags": []
   },
   "outputs": [],
   "source": [
    "gdplot.plot_1d([f\"{folder}/mcmc_bias\"], \"bias_LYA\")"
   ]
  },
  {
   "cell_type": "code",
   "execution_count": 7,
   "id": "99d06587-e214-4ca3-b7f2-5c594353af54",
   "metadata": {
    "tags": []
   },
   "outputs": [],
   "source": [
    "gdplot = gdplt.get_single_plotter(chain_dir=folder)\n",
    "gdplot.plot_1d(\"mcmc_bias\", \"bias_LYA\")"
   ]
  },
  {
   "cell_type": "code",
   "execution_count": null,
   "id": "9db9bb12-1183-4f5d-bd3b-5ac7bea6cf9a",
   "metadata": {},
   "outputs": [],
   "source": []
  },
  {
   "cell_type": "code",
   "execution_count": 3,
   "id": "40cfa062-a5e2-4090-832c-c819a2c988a6",
   "metadata": {},
   "outputs": [],
   "source": [
    "data = np.loadtxt('/pscratch/sd/w/wmturner/LyA-directfit/mcmc/test_mcmc.1.txt').T"
   ]
  },
  {
   "cell_type": "code",
   "execution_count": 4,
   "id": "c68cfe78-73e4-4a64-81e0-914421a83239",
   "metadata": {
    "tags": []
   },
   "outputs": [],
   "source": [
    "bias, omCh2 = data[2], data[3]"
   ]
  },
  {
   "cell_type": "code",
   "execution_count": 2,
   "id": "6db5be25-1e27-444d-a063-3ad961768374",
   "metadata": {
    "tags": []
   },
   "outputs": [],
   "source": [
    "data = np.loadtxt('/pscratch/sd/w/wmturner/LyA-directfit/mcmc/mcmc_H0_bias_v2.1.txt').T\n",
    "H0, bias = data[2], data[3]"
   ]
  },
  {
   "cell_type": "code",
   "execution_count": 3,
   "id": "221a53e7-3042-4c42-bdbf-bb8eeb09e159",
   "metadata": {
    "tags": []
   },
   "outputs": [
    {
     "data": {
      "image/png": "[encoded data removed]",
      "text/plain": [
       "<Figure size 640x480 with 1 Axes>"
      ]
     },
     "metadata": {},
     "output_type": "display_data"
    }
   ],
   "source": [
    "plt.hist2d(H0, bias, bins=50, cmap=\"Blues\")\n",
    "plt.xlabel(\"H0\")\n",
    "plt.ylabel(\"bias_LYA\")\n",
    "plt.show()"
   ]
  },
  {
   "cell_type": "code",
   "execution_count": null,
   "id": "a3759524-028a-4fdb-8e6c-290adc644f7d",
   "metadata": {},
   "outputs": [],
   "source": []
  }
 ],
 "metadata": {
  "kernelspec": {
   "display_name": "lya-directfit",
   "language": "python",
   "name": "lya-directfit"
  },
  "language_info": {
   "codemirror_mode": {
    "name": "ipython",
    "version": 3
   },
   "file_extension": ".py",
   "mimetype": "text/x-python",
   "name": "python",
   "nbconvert_exporter": "python",
   "pygments_lexer": "ipython3",
   "version": "3.12.2"
  }
 },
 "nbformat": 4,
 "nbformat_minor": 5
}
