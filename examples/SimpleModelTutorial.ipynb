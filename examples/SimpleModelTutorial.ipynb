{
 "cells": [
  {
   "cell_type": "code",
   "execution_count": 1,
   "metadata": {},
   "outputs": [],
   "source": [
    "from vega import VegaInterface\n",
    "import numpy as np\n",
    "import matplotlib.pyplot as plt"
   ]
  },
  {
   "cell_type": "code",
   "execution_count": 2,
   "metadata": {},
   "outputs": [
    {
     "name": "stdout",
     "output_type": "stream",
     "text": [
      "INFO: reading input Pk d:\\work\\repo\\dev\\vega\\vega\\models\\PlanckDR16\\PlanckDR16.fits\n",
      "Reading data file D:\\\\work\\\\data\\\\DR16\\\\cf_z_0_10-exp.fits\n",
      "\n",
      "Warning: Prior specified for a parameter that is not sampled!\n"
     ]
    }
   ],
   "source": [
    "vega = VegaInterface(\"D:\\\\work\\\\run\\\\DR16_CONFIG\\\\main.ini\")"
   ]
  },
  {
   "cell_type": "markdown",
   "metadata": {},
   "source": [
    "## Compute model correlations"
   ]
  },
  {
   "cell_type": "code",
   "execution_count": 3,
   "metadata": {},
   "outputs": [
    {
     "name": "stdout",
     "output_type": "stream",
     "text": [
      "[ 1.16949242e-02  6.50524223e-03  3.78344207e-03 ... -1.90820611e-06\n",
      " -1.80467177e-06 -1.70475048e-06]\n"
     ]
    },
    {
     "name": "stderr",
     "output_type": "stream",
     "text": [
      "C:\\Users\\Andrei\\Anaconda3\\envs\\vega\\lib\\site-packages\\mcfit\\mcfit.py:217: UserWarning: The default value of extrap has been changed to False, set it to True if you cannot reproduce previous results\n",
      "  warnings.warn(\"The default value of extrap has been changed to False, \"\n"
     ]
    }
   ],
   "source": [
    "model = vega.compute_model()\n",
    "\n",
    "print(model['lyaxlya'])"
   ]
  },
  {
   "cell_type": "markdown",
   "metadata": {},
   "source": [
    "## Define a new coordinate grid:\n",
    "Make sure you add this to the [data] section of lyaxlya.ini:\n",
    "\n",
    "distortion = False"
   ]
  },
  {
   "cell_type": "code",
   "execution_count": 4,
   "metadata": {},
   "outputs": [],
   "source": [
    "# For example:\n",
    "rp_vals = np.linspace(0, 200, 200)\n",
    "rt_vals = np.linspace(0, 200, 100)\n",
    "\n",
    "rt_grid, rp_grid = np.meshgrid(rp_vals, rt_vals)\n",
    "\n",
    "# Overwrite rp_rt grid:\n",
    "vega.corr_items['lyaxlya'].rp_rt_grid = [rp_grid.flatten(), rt_grid.flatten()]\n",
    "\n",
    "# Overwrite z grid. This can be a vector or a float\n",
    "vega.corr_items['lyaxlya'].z_grid = 2.4"
   ]
  },
  {
   "cell_type": "code",
   "execution_count": 5,
   "metadata": {},
   "outputs": [
    {
     "name": "stdout",
     "output_type": "stream",
     "text": [
      "[ 0.00000000e+00  2.37123379e-02  2.05552972e-02 ... -1.71958354e-06\n",
      " -1.69531364e-06 -1.67129585e-06]\n",
      "(20000,)\n"
     ]
    }
   ],
   "source": [
    "new_model = vega.compute_model()\n",
    "\n",
    "print(new_model['lyaxlya'])\n",
    "print(np.shape(new_model['lyaxlya']))"
   ]
  },
  {
   "cell_type": "markdown",
   "metadata": {},
   "source": [
    "## To compute a single multipole add this line to the [model] section of lyaxlya.ini:\n",
    "single_multipole = 2"
   ]
  },
  {
   "cell_type": "code",
   "execution_count": 6,
   "metadata": {},
   "outputs": [
    {
     "name": "stdout",
     "output_type": "stream",
     "text": [
      "INFO: reading input Pk d:\\work\\repo\\dev\\vega\\vega\\models\\PlanckDR16\\PlanckDR16.fits\n",
      "Reading data file D:\\\\work\\\\data\\\\DR16\\\\cf_z_0_10-exp.fits\n",
      "\n",
      "Warning: Prior specified for a parameter that is not sampled!\n",
      "ell = 2:  [-3.95238790e-03 -3.33327586e-03 -2.23244413e-03 ... -3.09637239e-06\n",
      " -2.98264057e-06 -2.87183226e-06]\n"
     ]
    }
   ],
   "source": [
    "vega = VegaInterface(\"D:\\\\work\\\\run\\\\DR16_CONFIG\\\\main.ini\")\n",
    "\n",
    "model = vega.compute_model()\n",
    "print('ell = 2: ', model['lyaxlya'])"
   ]
  },
  {
   "cell_type": "code",
   "execution_count": null,
   "metadata": {},
   "outputs": [],
   "source": []
  }
 ],
 "metadata": {
  "kernelspec": {
   "display_name": "Python 3 (ipykernel)",
   "language": "python",
   "name": "python3"
  },
  "language_info": {
   "codemirror_mode": {
    "name": "ipython",
    "version": 3
   },
   "file_extension": ".py",
   "mimetype": "text/x-python",
   "name": "python",
   "nbconvert_exporter": "python",
   "pygments_lexer": "ipython3",
   "version": "3.10.6"
  }
 },
 "nbformat": 4,
 "nbformat_minor": 4
}
