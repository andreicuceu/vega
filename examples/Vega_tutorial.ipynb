{
 "cells": [
  {
   "cell_type": "markdown",
   "metadata": {},
   "source": [
    "# Vega Tutorial"
   ]
  },
  {
   "cell_type": "code",
   "execution_count": 1,
   "metadata": {},
   "outputs": [],
   "source": [
    "import numpy as np\n",
    "import matplotlib.pyplot as plt\n",
    "from vega import VegaInterface, Wedge\n",
    "from vega.analysis import Analysis"
   ]
  },
  {
   "cell_type": "markdown",
   "metadata": {},
   "source": [
    "### Vega can be initializez through the VegaInterface by passing the path to the main.ini config"
   ]
  },
  {
   "cell_type": "code",
   "execution_count": 2,
   "metadata": {},
   "outputs": [
    {
     "name": "stdout",
     "output_type": "stream",
     "text": [
      "INFO: reading input Pk /home/acuceu/work/dev/Vega/vega/models/PlanckDR16/PlanckDR16.fits\n",
      "LOG: Full matrix is positive definite\n",
      "LOG: Reduced matrix is positive definite\n",
      "LOG: Full matrix is positive definite\n",
      "LOG: Reduced matrix is positive definite\n"
     ]
    }
   ],
   "source": [
    "vega = VegaInterface('main.ini')"
   ]
  },
  {
   "cell_type": "markdown",
   "metadata": {},
   "source": [
    "### Run the minimizer and have a look at the output"
   ]
  },
  {
   "cell_type": "code",
   "execution_count": 8,
   "metadata": {},
   "outputs": [
    {
     "name": "stdout",
     "output_type": "stream",
     "text": [
      "------------------------------------------------------------------\n",
      "| FCN = 6645                    |      Ncalls=42 (42 total)      |\n",
      "| EDM = 1.11e-06 (Goal: 0.0002) |            up = 1.0            |\n",
      "------------------------------------------------------------------\n",
      "|  Valid Min.   | Valid Param.  | Above EDM | Reached call limit |\n",
      "------------------------------------------------------------------\n",
      "|     True      |     True      |   False   |       False        |\n",
      "------------------------------------------------------------------\n",
      "| Hesse failed  |   Has cov.    | Accurate  | Pos. def. | Forced |\n",
      "------------------------------------------------------------------\n",
      "|     False     |     True      |   True    |   True    | False  |\n",
      "------------------------------------------------------------------\n",
      "------------------------------------------------------------------------------------------\n",
      "|   | Name |   Value   | Hesse Err | Minos Err- | Minos Err+ | Limit-  | Limit+  | Fixed |\n",
      "------------------------------------------------------------------------------------------\n",
      "| 0 | ap   |   1.122   |   0.022   |            |            |   0.1   |    2    |       |\n",
      "| 1 | at   |   0.931   |   0.027   |            |            |   0.1   |    2    |       |\n",
      "------------------------------------------------------------------------------------------\n",
      "INFO: minimized in 106.84226131439209\n"
     ]
    }
   ],
   "source": [
    "vega.minimize()"
   ]
  },
  {
   "cell_type": "code",
   "execution_count": 12,
   "metadata": {},
   "outputs": [
    {
     "data": {
      "text/html": [
       "<table>\n",
       "<tr style=\"background-color:#F4F4F4;\"> <td/> <th title=\"Variable name\"> Name </th> <th title=\"Value of parameter\"> Value </th> <th title=\"Hesse error\"> Hesse Error </th> <th title=\"Minos lower error\"> Minos Error- </th> <th title=\"Minos upper error\"> Minos Error+ </th> <th title=\"Lower limit of the parameter\"> Limit- </th> <th title=\"Upper limit of the parameter\"> Limit+ </th> <th title=\"Is the parameter fixed in the fit\"> Fixed </th> </tr>\n",
       "<tr style=\"background-color:#FFFFFF;\"> <th> 0 </th> <td> ap </td> <td> 1.122 </td> <td> 0.022 </td> <td>  </td> <td>  </td> <td> 0.1 </td> <td> 2 </td> <td>  </td> </tr>\n",
       "<tr style=\"background-color:#F4F4F4;\"> <th> 1 </th> <td> at </td> <td> 0.931 </td> <td> 0.027 </td> <td>  </td> <td>  </td> <td> 0.1 </td> <td> 2 </td> <td>  </td> </tr>\n",
       "</table>\n"
      ],
      "text/plain": [
       "------------------------------------------------------------------------------------------\n",
       "|   | Name |   Value   | Hesse Err | Minos Err- | Minos Err+ | Limit-  | Limit+  | Fixed |\n",
       "------------------------------------------------------------------------------------------\n",
       "| 0 | ap   |   1.122   |   0.022   |            |            |   0.1   |    2    |       |\n",
       "| 1 | at   |   0.931   |   0.027   |            |            |   0.1   |    2    |       |\n",
       "------------------------------------------------------------------------------------------"
      ]
     },
     "execution_count": 12,
     "metadata": {},
     "output_type": "execute_result"
    }
   ],
   "source": [
    "vega.bestfit.params"
   ]
  },
  {
   "cell_type": "markdown",
   "metadata": {},
   "source": [
    "## Let's have a look at the structure of the interface"
   ]
  },
  {
   "cell_type": "markdown",
   "metadata": {},
   "source": [
    "The basic substructure is given by correlation items. There is one of these for each component (corresponding to each config file you input).\n",
    "These are held in a dictionary with keys given by the names you wrote in the config files. These objects store the information needed to compute a model $\\xi$ for that particular component."
   ]
  },
  {
   "cell_type": "code",
   "execution_count": 3,
   "metadata": {},
   "outputs": [
    {
     "data": {
      "text/plain": [
       "{'lyaxlya': <vega.correlation_item.CorrelationItem at 0x7f9ebd42f7d0>,\n",
       " 'qsoxlya': <vega.correlation_item.CorrelationItem at 0x7f9ebc05c5d0>}"
      ]
     },
     "execution_count": 3,
     "metadata": {},
     "output_type": "execute_result"
    }
   ],
   "source": [
    "vega.corr_items"
   ]
  },
  {
   "cell_type": "markdown",
   "metadata": {},
   "source": [
    "They can be initialized on their own by simply passing a parsed config file (such as lyaxlya.ini). Lets see what they contain"
   ]
  },
  {
   "cell_type": "code",
   "execution_count": 4,
   "metadata": {},
   "outputs": [
    {
     "data": {
      "text/plain": [
       "{'config': <configparser.ConfigParser at 0x7f9ef0425c90>,\n",
       " 'name': 'lyaxlya',\n",
       " 'tracer1': {'name': 'LYA', 'type': 'continuous'},\n",
       " 'tracer2': {'name': 'LYA', 'type': 'continuous'},\n",
       " 'has_metals': True,\n",
       " 'has_bb': False,\n",
       " '_rp_rt_grid': array([[  2.07942278,   2.07593782,   2.07702203, ..., 197.97629321,\n",
       "         197.97381157, 197.97691767],\n",
       "        [  2.69591934,   6.19556712,  10.13001749, ..., 190.00656533,\n",
       "         194.0065553 , 198.00786125]]),\n",
       " '_r_mu_grid': array([[3.40469972e+00, 6.53410819e+00, 1.03407579e+01, ...,\n",
       "         2.74403184e+02, 2.77186171e+02, 2.80003523e+02],\n",
       "        [6.10750713e-01, 3.17707905e-01, 2.00857813e-01, ...,\n",
       "         7.21479577e-01, 7.14226870e-01, 7.07051523e-01]]),\n",
       " '_z_grid': array([2.36224365, 2.36032967, 2.35955733, ..., 2.38663466, 2.38652742,\n",
       "        2.38631922]),\n",
       " 'tracer_catalog': {'LYA': {'name': 'LYA', 'type': 'continuous'},\n",
       "  'CIV(eff)': {'name': 'CIV(eff)', 'type': 'continuous'},\n",
       "  'SiII(1260)': {'name': 'SiII(1260)', 'type': 'continuous'},\n",
       "  'SiIII(1207)': {'name': 'SiIII(1207)', 'type': 'continuous'},\n",
       "  'SiII(1193)': {'name': 'SiII(1193)', 'type': 'continuous'},\n",
       "  'SiII(1190)': {'name': 'SiII(1190)', 'type': 'continuous'}},\n",
       " 'metal_correlations': [('LYA', 'CIV(eff)'),\n",
       "  ('LYA', 'SiII(1260)'),\n",
       "  ('LYA', 'SiIII(1207)'),\n",
       "  ('LYA', 'SiII(1193)'),\n",
       "  ('LYA', 'SiII(1190)'),\n",
       "  ('CIV(eff)', 'LYA'),\n",
       "  ('SiII(1260)', 'LYA'),\n",
       "  ('SiIII(1207)', 'LYA'),\n",
       "  ('SiII(1193)', 'LYA'),\n",
       "  ('SiII(1190)', 'LYA'),\n",
       "  ('CIV(eff)', 'CIV(eff)'),\n",
       "  ('CIV(eff)', 'SiII(1260)'),\n",
       "  ('CIV(eff)', 'SiIII(1207)'),\n",
       "  ('CIV(eff)', 'SiII(1193)'),\n",
       "  ('CIV(eff)', 'SiII(1190)'),\n",
       "  ('SiII(1260)', 'SiII(1260)'),\n",
       "  ('SiII(1260)', 'SiIII(1207)'),\n",
       "  ('SiII(1260)', 'SiII(1193)'),\n",
       "  ('SiII(1260)', 'SiII(1190)'),\n",
       "  ('SiIII(1207)', 'SiIII(1207)'),\n",
       "  ('SiIII(1207)', 'SiII(1193)'),\n",
       "  ('SiIII(1207)', 'SiII(1190)'),\n",
       "  ('SiII(1193)', 'SiII(1193)'),\n",
       "  ('SiII(1193)', 'SiII(1190)'),\n",
       "  ('SiII(1190)', 'SiII(1190)')]}"
      ]
     },
     "execution_count": 4,
     "metadata": {},
     "output_type": "execute_result"
    }
   ],
   "source": [
    "vega.corr_items['lyaxlya'].__dict__"
   ]
  },
  {
   "cell_type": "markdown",
   "metadata": {},
   "source": [
    "Once we got the the correlation items we can look at the stored data, again stored in dictionaries accessed like the ones above"
   ]
  },
  {
   "cell_type": "code",
   "execution_count": 5,
   "metadata": {},
   "outputs": [
    {
     "data": {
      "text/plain": [
       "{'lyaxlya': <vega.data.Data at 0x7f9ebe9d6110>,\n",
       " 'qsoxlya': <vega.data.Data at 0x7f9eb595e210>}"
      ]
     },
     "execution_count": 5,
     "metadata": {},
     "output_type": "execute_result"
    }
   ],
   "source": [
    "vega.data"
   ]
  },
  {
   "cell_type": "markdown",
   "metadata": {},
   "source": [
    "Print what these Data objects contain:"
   ]
  },
  {
   "cell_type": "code",
   "execution_count": 6,
   "metadata": {},
   "outputs": [
    {
     "data": {
      "text/plain": [
       "{'_corr_item': <vega.correlation_item.CorrelationItem at 0x7f9ebd42f7d0>,\n",
       " '_tracer1': {'name': 'LYA', 'type': 'continuous'},\n",
       " '_tracer2': {'name': 'LYA', 'type': 'continuous'},\n",
       " 'data_vec': array([ 1.00606592e-02,  5.60909335e-03,  3.43969430e-03, ...,\n",
       "        -7.95319930e-06,  4.42543933e-06, -1.10036449e-05]),\n",
       " 'cov_mat': array([[ 1.09210301e-08,  3.90300148e-10,  2.12151794e-10, ...,\n",
       "          4.82806253e-12,  1.69942553e-11,  2.18309495e-11],\n",
       "        [ 3.90300148e-10,  3.54115358e-09,  1.69256432e-10, ...,\n",
       "         -7.57252441e-13,  2.68755160e-12,  9.40136911e-12],\n",
       "        [ 2.12151794e-10,  1.69256432e-10,  2.05379237e-09, ...,\n",
       "         -1.06198001e-12, -5.63754363e-13,  1.98843357e-12],\n",
       "        ...,\n",
       "        [ 4.82806253e-12, -7.57252441e-13, -1.06198001e-12, ...,\n",
       "          1.06431967e-10,  6.52995172e-12,  4.52793792e-12],\n",
       "        [ 1.69942553e-11,  2.68755160e-12, -5.63754363e-13, ...,\n",
       "          6.52995172e-12,  1.01708859e-10,  6.20157078e-12],\n",
       "        [ 2.18309495e-11,  9.40136911e-12,  1.98843357e-12, ...,\n",
       "          4.52793792e-12,  6.20157078e-12,  9.59965354e-11]]),\n",
       " 'distortion_mat': <2500x2500 sparse matrix of type '<class 'numpy.float64'>'\n",
       " \twith 828376 stored elements in Compressed Sparse Row format>,\n",
       " 'coeff_binning_model': 1.0,\n",
       " 'mask': array([False, False,  True, ..., False, False, False]),\n",
       " 'bin_size_rp': 4.0,\n",
       " 'masked_data_vec': array([3.43969430e-03, 2.28797010e-03, 1.60827900e-03, ...,\n",
       "        1.54335003e-05, 2.94306151e-05, 1.80391133e-05]),\n",
       " 'data_size': 1590,\n",
       " 'full_data_size': 2500,\n",
       " 'inv_masked_cov': array([[ 6.42087129e+08, -1.66287111e+07, -1.83744638e+07, ...,\n",
       "         -1.02380863e+06, -2.02298368e+06, -2.62346142e+06],\n",
       "        [-1.66287111e+07,  9.44071801e+08, -2.11858631e+07, ...,\n",
       "          2.38664236e+07, -1.39160319e+06, -2.68104305e+06],\n",
       "        [-1.83744638e+07, -2.11858631e+07,  1.09423869e+09, ...,\n",
       "          4.01749049e+07,  2.82594259e+07, -1.63901517e+06],\n",
       "        ...,\n",
       "        [-1.02380863e+06,  2.38664236e+07,  4.01749049e+07, ...,\n",
       "          1.30403441e+09, -3.00555534e+07, -3.50688103e+07],\n",
       "        [-2.02298368e+06, -1.39160319e+06,  2.82594259e+07, ...,\n",
       "         -3.00555534e+07,  1.57744355e+09, -3.71347875e+07],\n",
       "        [-2.62346142e+06, -2.68104305e+06, -1.63901517e+06, ...,\n",
       "         -3.50688103e+07, -3.71347875e+07,  1.92766107e+09]]),\n",
       " 'log_cov_det': -35476.54093187102,\n",
       " 'r_square_grid': array([  3.40469972,   6.53410819,  10.34075795, ..., 274.40318427,\n",
       "        277.18617131, 280.00352328]),\n",
       " 'mu_square_grid': array([0.61075071, 0.3177079 , 0.20085781, ..., 0.72147958, 0.71422687,\n",
       "        0.70705152]),\n",
       " 'metal_mats': {('LYA',\n",
       "   'CIV(eff)'): <2500x2500 sparse matrix of type '<class 'numpy.float64'>'\n",
       "  \twith 0 stored elements in Compressed Sparse Row format>,\n",
       "  ('LYA',\n",
       "   'SiII(1260)'): <2500x2500 sparse matrix of type '<class 'numpy.float64'>'\n",
       "  \twith 44287 stored elements in Compressed Sparse Row format>,\n",
       "  ('LYA',\n",
       "   'SiIII(1207)'): <2500x2500 sparse matrix of type '<class 'numpy.float64'>'\n",
       "  \twith 27366 stored elements in Compressed Sparse Row format>,\n",
       "  ('LYA',\n",
       "   'SiII(1193)'): <2500x2500 sparse matrix of type '<class 'numpy.float64'>'\n",
       "  \twith 33373 stored elements in Compressed Sparse Row format>,\n",
       "  ('LYA',\n",
       "   'SiII(1190)'): <2500x2500 sparse matrix of type '<class 'numpy.float64'>'\n",
       "  \twith 37710 stored elements in Compressed Sparse Row format>,\n",
       "  ('CIV(eff)',\n",
       "   'LYA'): <2500x2500 sparse matrix of type '<class 'numpy.float64'>'\n",
       "  \twith 0 stored elements in Compressed Sparse Row format>,\n",
       "  ('SiII(1260)',\n",
       "   'LYA'): <2500x2500 sparse matrix of type '<class 'numpy.float64'>'\n",
       "  \twith 44287 stored elements in Compressed Sparse Row format>,\n",
       "  ('SiIII(1207)',\n",
       "   'LYA'): <2500x2500 sparse matrix of type '<class 'numpy.float64'>'\n",
       "  \twith 27366 stored elements in Compressed Sparse Row format>,\n",
       "  ('SiII(1193)',\n",
       "   'LYA'): <2500x2500 sparse matrix of type '<class 'numpy.float64'>'\n",
       "  \twith 33373 stored elements in Compressed Sparse Row format>,\n",
       "  ('SiII(1190)',\n",
       "   'LYA'): <2500x2500 sparse matrix of type '<class 'numpy.float64'>'\n",
       "  \twith 37710 stored elements in Compressed Sparse Row format>,\n",
       "  ('CIV(eff)',\n",
       "   'CIV(eff)'): <2500x2500 sparse matrix of type '<class 'numpy.float64'>'\n",
       "  \twith 19493 stored elements in Compressed Sparse Row format>,\n",
       "  ('CIV(eff)',\n",
       "   'SiII(1260)'): <2500x2500 sparse matrix of type '<class 'numpy.float64'>'\n",
       "  \twith 0 stored elements in Compressed Sparse Row format>,\n",
       "  ('CIV(eff)',\n",
       "   'SiIII(1207)'): <2500x2500 sparse matrix of type '<class 'numpy.float64'>'\n",
       "  \twith 0 stored elements in Compressed Sparse Row format>,\n",
       "  ('CIV(eff)',\n",
       "   'SiII(1193)'): <2500x2500 sparse matrix of type '<class 'numpy.float64'>'\n",
       "  \twith 0 stored elements in Compressed Sparse Row format>,\n",
       "  ('CIV(eff)',\n",
       "   'SiII(1190)'): <2500x2500 sparse matrix of type '<class 'numpy.float64'>'\n",
       "  \twith 0 stored elements in Compressed Sparse Row format>,\n",
       "  ('SiII(1260)',\n",
       "   'SiII(1260)'): <2500x2500 sparse matrix of type '<class 'numpy.float64'>'\n",
       "  \twith 11345 stored elements in Compressed Sparse Row format>,\n",
       "  ('SiII(1260)',\n",
       "   'SiIII(1207)'): <2500x2500 sparse matrix of type '<class 'numpy.float64'>'\n",
       "  \twith 48401 stored elements in Compressed Sparse Row format>,\n",
       "  ('SiII(1260)',\n",
       "   'SiII(1193)'): <2500x2500 sparse matrix of type '<class 'numpy.float64'>'\n",
       "  \twith 49966 stored elements in Compressed Sparse Row format>,\n",
       "  ('SiII(1260)',\n",
       "   'SiII(1190)'): <2500x2500 sparse matrix of type '<class 'numpy.float64'>'\n",
       "  \twith 49852 stored elements in Compressed Sparse Row format>,\n",
       "  ('SiIII(1207)',\n",
       "   'SiIII(1207)'): <2500x2500 sparse matrix of type '<class 'numpy.float64'>'\n",
       "  \twith 9801 stored elements in Compressed Sparse Row format>,\n",
       "  ('SiIII(1207)',\n",
       "   'SiII(1193)'): <2500x2500 sparse matrix of type '<class 'numpy.float64'>'\n",
       "  \twith 29419 stored elements in Compressed Sparse Row format>,\n",
       "  ('SiIII(1207)',\n",
       "   'SiII(1190)'): <2500x2500 sparse matrix of type '<class 'numpy.float64'>'\n",
       "  \twith 28952 stored elements in Compressed Sparse Row format>,\n",
       "  ('SiII(1193)',\n",
       "   'SiII(1193)'): <2500x2500 sparse matrix of type '<class 'numpy.float64'>'\n",
       "  \twith 9801 stored elements in Compressed Sparse Row format>,\n",
       "  ('SiII(1193)',\n",
       "   'SiII(1190)'): <2500x2500 sparse matrix of type '<class 'numpy.float64'>'\n",
       "  \twith 21129 stored elements in Compressed Sparse Row format>,\n",
       "  ('SiII(1190)',\n",
       "   'SiII(1190)'): <2500x2500 sparse matrix of type '<class 'numpy.float64'>'\n",
       "  \twith 9801 stored elements in Compressed Sparse Row format>},\n",
       " 'metal_rp_grids': {('LYA', 'CIV(eff)'): array([0., 0., 0., ..., 0., 0., 0.]),\n",
       "  ('LYA',\n",
       "   'SiII(1260)'): array([  1.97730918,   1.97002693,   1.97305818, ..., 197.97655577,\n",
       "         197.97990548, 197.9805353 ]),\n",
       "  ('LYA',\n",
       "   'SiIII(1207)'): array([  2.14265288,   2.14164182,   2.13788083, ..., 198.01838079,\n",
       "         198.01947584, 198.01917381]),\n",
       "  ('LYA',\n",
       "   'SiII(1193)'): array([  2.03323163,   2.0466956 ,   2.02673281, ..., 197.97576032,\n",
       "         197.97251748, 197.97335478]),\n",
       "  ('LYA',\n",
       "   'SiII(1190)'): array([  1.95820919,   1.95186138,   1.95663864, ..., 198.01176991,\n",
       "         198.01116393, 198.00766885]),\n",
       "  ('CIV(eff)', 'LYA'): array([0., 0., 0., ..., 0., 0., 0.]),\n",
       "  ('SiII(1260)',\n",
       "   'LYA'): array([  1.97730918,   1.97002693,   1.97305818, ..., 197.97655577,\n",
       "         197.97990548, 197.9805353 ]),\n",
       "  ('SiIII(1207)',\n",
       "   'LYA'): array([  2.14265288,   2.14164182,   2.13788083, ..., 198.01838079,\n",
       "         198.01947584, 198.01917381]),\n",
       "  ('SiII(1193)',\n",
       "   'LYA'): array([  2.03323163,   2.0466956 ,   2.02673281, ..., 197.97576032,\n",
       "         197.97251748, 197.97335478]),\n",
       "  ('SiII(1190)',\n",
       "   'LYA'): array([  1.95820919,   1.95186138,   1.95663864, ..., 198.01176991,\n",
       "         198.01116393, 198.00766885]),\n",
       "  ('CIV(eff)',\n",
       "   'CIV(eff)'): array([1.43410844, 1.44683226, 1.44230875, ..., 0.        , 0.        ,\n",
       "         0.        ]),\n",
       "  ('CIV(eff)', 'SiII(1260)'): array([0., 0., 0., ..., 0., 0., 0.]),\n",
       "  ('CIV(eff)', 'SiIII(1207)'): array([0., 0., 0., ..., 0., 0., 0.]),\n",
       "  ('CIV(eff)', 'SiII(1193)'): array([0., 0., 0., ..., 0., 0., 0.]),\n",
       "  ('CIV(eff)', 'SiII(1190)'): array([0., 0., 0., ..., 0., 0., 0.]),\n",
       "  ('SiII(1260)',\n",
       "   'SiII(1260)'): array([  1.86961167,   1.87803125,   1.87465595, ..., 198.03998425,\n",
       "         198.03498025, 197.99938932]),\n",
       "  ('SiII(1260)',\n",
       "   'SiIII(1207)'): array([  1.97845759,   1.97252455,   1.97482393, ..., 197.97960328,\n",
       "         197.98319721, 197.98297516]),\n",
       "  ('SiII(1260)',\n",
       "   'SiII(1193)'): array([  1.97123163,   1.96734144,   1.97147295, ..., 197.99711999,\n",
       "         198.00057602, 197.9991959 ]),\n",
       "  ('SiII(1260)',\n",
       "   'SiII(1190)'): array([  1.97424688,   1.96856055,   1.97098308, ..., 198.00501772,\n",
       "         198.00256574, 198.00265483]),\n",
       "  ('SiIII(1207)',\n",
       "   'SiIII(1207)'): array([  2.1212009 ,   2.10417911,   2.11708744, ..., 197.68012551,\n",
       "         197.67961156, 197.67876159]),\n",
       "  ('SiIII(1207)',\n",
       "   'SiII(1193)'): array([  2.10301045,   2.10560703,   2.09659272, ..., 197.98049026,\n",
       "         197.97889812, 197.97878994]),\n",
       "  ('SiIII(1207)',\n",
       "   'SiII(1190)'): array([  1.96109529,   1.95725743,   1.9610971 , ..., 198.02075169,\n",
       "         198.0197212 , 198.01677604]),\n",
       "  ('SiII(1193)',\n",
       "   'SiII(1193)'): array([  2.17316321,   2.15950653,   2.17048999, ..., 197.19945832,\n",
       "         197.199582  , 197.19846253]),\n",
       "  ('SiII(1193)',\n",
       "   'SiII(1190)'): array([  1.95982178,   1.9554827 ,   1.95974223, ..., 198.02819871,\n",
       "         198.0280944 , 198.02364971]),\n",
       "  ('SiII(1190)',\n",
       "   'SiII(1190)'): array([  2.180974  ,   2.16740778,   2.1788356 , ..., 197.10468578,\n",
       "         197.10427873, 197.10489158])},\n",
       " 'metal_rt_grids': {('LYA', 'CIV(eff)'): array([0., 0., 0., ..., 0., 0., 0.]),\n",
       "  ('LYA',\n",
       "   'SiII(1260)'): array([  2.59567054,   6.21938776,  10.10631359, ..., 190.0076975 ,\n",
       "         194.00368847, 196.68356967]),\n",
       "  ('LYA',\n",
       "   'SiIII(1207)'): array([  2.6047893 ,   6.24300164,  10.08219377, ..., 190.00959014,\n",
       "         194.00438916, 198.00347038]),\n",
       "  ('LYA',\n",
       "   'SiII(1193)'): array([  2.61322018,   6.2360711 ,  10.0800775 , ..., 190.00899518,\n",
       "         194.00707066, 198.00313258]),\n",
       "  ('LYA',\n",
       "   'SiII(1190)'): array([  2.60772117,   6.23229018,  10.08035345, ..., 190.00981798,\n",
       "         194.00630927, 198.00298716]),\n",
       "  ('CIV(eff)', 'LYA'): array([0., 0., 0., ..., 0., 0., 0.]),\n",
       "  ('SiII(1260)',\n",
       "   'LYA'): array([  2.59567054,   6.21938776,  10.10631359, ..., 190.0076975 ,\n",
       "         194.00368847, 196.68356967]),\n",
       "  ('SiIII(1207)',\n",
       "   'LYA'): array([  2.6047893 ,   6.24300164,  10.08219377, ..., 190.00959014,\n",
       "         194.00438916, 198.00347038]),\n",
       "  ('SiII(1193)',\n",
       "   'LYA'): array([  2.61322018,   6.2360711 ,  10.0800775 , ..., 190.00899518,\n",
       "         194.00707066, 198.00313258]),\n",
       "  ('SiII(1190)',\n",
       "   'LYA'): array([  2.60772117,   6.23229018,  10.08035345, ..., 190.00981798,\n",
       "         194.00630927, 198.00298716]),\n",
       "  ('CIV(eff)',\n",
       "   'CIV(eff)'): array([ 2.52990799,  6.09731833, 10.15962894, ...,  0.        ,\n",
       "          0.        ,  0.        ]),\n",
       "  ('CIV(eff)', 'SiII(1260)'): array([0., 0., 0., ..., 0., 0., 0.]),\n",
       "  ('CIV(eff)', 'SiIII(1207)'): array([0., 0., 0., ..., 0., 0., 0.]),\n",
       "  ('CIV(eff)', 'SiII(1193)'): array([0., 0., 0., ..., 0., 0., 0.]),\n",
       "  ('CIV(eff)', 'SiII(1190)'): array([0., 0., 0., ..., 0., 0., 0.]),\n",
       "  ('SiII(1260)',\n",
       "   'SiII(1260)'): array([  2.56967571,   6.22544569,  10.11194548, ..., 190.00524884,\n",
       "         193.38819732, 196.06735667]),\n",
       "  ('SiII(1260)',\n",
       "   'SiIII(1207)'): array([  2.58755184,   6.2219671 ,  10.10203277, ..., 190.00725318,\n",
       "         194.00527392, 196.93786952]),\n",
       "  ('SiII(1260)',\n",
       "   'SiII(1193)'): array([  2.58339258,   6.22531975,  10.10054854, ..., 190.00703689,\n",
       "         194.00546409, 197.33865963]),\n",
       "  ('SiII(1260)',\n",
       "   'SiII(1190)'): array([  2.58294529,   6.22392621,  10.09872852, ..., 190.00671835,\n",
       "         194.00610933, 197.42771779]),\n",
       "  ('SiIII(1207)',\n",
       "   'SiIII(1207)'): array([  2.59561365,   6.24566272,  10.08240264, ..., 190.01027473,\n",
       "         194.00572283, 198.00499336]),\n",
       "  ('SiIII(1207)',\n",
       "   'SiII(1193)'): array([  2.60923801,   6.24471415,  10.0768446 , ..., 190.01058061,\n",
       "         194.00743676, 198.00437961]),\n",
       "  ('SiIII(1207)',\n",
       "   'SiII(1190)'): array([  2.60616806,   6.2394544 ,  10.0764969 , ..., 190.00924606,\n",
       "         194.00736539, 198.00568698]),\n",
       "  ('SiII(1193)',\n",
       "   'SiII(1193)'): array([  2.60218699,   6.24131402,  10.07607144, ..., 190.01082181,\n",
       "         194.00564397, 198.00511409]),\n",
       "  ('SiII(1193)',\n",
       "   'SiII(1190)'): array([  2.60449364,   6.24135187,  10.07563759, ..., 190.00844725,\n",
       "         194.00564482, 198.00496869]),\n",
       "  ('SiII(1190)',\n",
       "   'SiII(1190)'): array([  2.60529298,   6.23865901,  10.07536552, ..., 190.01113515,\n",
       "         194.00652572, 198.00431778])},\n",
       " 'metal_z_grids': {('LYA', 'CIV(eff)'): array([0., 0., 0., ..., 0., 0., 0.]),\n",
       "  ('LYA',\n",
       "   'SiII(1260)'): array([2.2815522 , 2.31237178, 2.30012564, ..., 2.31595467, 2.31560916,\n",
       "         2.35212399]),\n",
       "  ('LYA',\n",
       "   'SiIII(1207)'): array([2.36502361, 2.39591681, 2.3738454 , ..., 2.41601728, 2.41725454,\n",
       "         2.41806942]),\n",
       "  ('LYA',\n",
       "   'SiII(1193)'): array([2.37582429, 2.41060932, 2.38748478, ..., 2.42217482, 2.42338313,\n",
       "         2.42415089]),\n",
       "  ('LYA',\n",
       "   'SiII(1190)'): array([2.36591164, 2.39472082, 2.37508025, ..., 2.42361281, 2.42476761,\n",
       "         2.4251369 ]),\n",
       "  ('CIV(eff)', 'LYA'): array([0., 0., 0., ..., 0., 0., 0.]),\n",
       "  ('SiII(1260)',\n",
       "   'LYA'): array([2.2815522 , 2.31237178, 2.30012564, ..., 2.31595467, 2.31560916,\n",
       "         2.35212399]),\n",
       "  ('SiIII(1207)',\n",
       "   'LYA'): array([2.36502361, 2.39591681, 2.3738454 , ..., 2.41601728, 2.41725454,\n",
       "         2.41806942]),\n",
       "  ('SiII(1193)',\n",
       "   'LYA'): array([2.37582429, 2.41060932, 2.38748478, ..., 2.42217482, 2.42338313,\n",
       "         2.42415089]),\n",
       "  ('SiII(1190)',\n",
       "   'LYA'): array([2.36591164, 2.39472082, 2.37508025, ..., 2.42361281, 2.42476761,\n",
       "         2.4251369 ]),\n",
       "  ('CIV(eff)',\n",
       "   'CIV(eff)'): array([1.58328978, 1.60515591, 1.60164894, ..., 0.        , 0.        ,\n",
       "         0.        ]),\n",
       "  ('CIV(eff)', 'SiII(1260)'): array([0., 0., 0., ..., 0., 0., 0.]),\n",
       "  ('CIV(eff)', 'SiIII(1207)'): array([0., 0., 0., ..., 0., 0., 0.]),\n",
       "  ('CIV(eff)', 'SiII(1193)'): array([0., 0., 0., ..., 0., 0., 0.]),\n",
       "  ('CIV(eff)', 'SiII(1190)'): array([0., 0., 0., ..., 0., 0., 0.]),\n",
       "  ('SiII(1260)',\n",
       "   'SiII(1260)'): array([2.22642319, 2.24990804, 2.23508915, ..., 2.26211059, 2.29120729,\n",
       "         3.37170151]),\n",
       "  ('SiII(1260)',\n",
       "   'SiIII(1207)'): array([2.27649883, 2.30114824, 2.29144923, ..., 2.29274534, 2.29231239,\n",
       "         2.31059033]),\n",
       "  ('SiII(1260)',\n",
       "   'SiII(1193)'): array([2.30133933, 2.33104162, 2.32052062, ..., 2.30286931, 2.30271904,\n",
       "         2.31073423]),\n",
       "  ('SiII(1260)',\n",
       "   'SiII(1190)'): array([2.30632571, 2.33549732, 2.3237819 , ..., 2.30554696, 2.30519584,\n",
       "         2.31137915]),\n",
       "  ('SiIII(1207)',\n",
       "   'SiIII(1207)'): array([2.35890574, 2.38017107, 2.36026671, ..., 2.40934418, 2.4110073 ,\n",
       "         2.41123182]),\n",
       "  ('SiIII(1207)',\n",
       "   'SiII(1193)'): array([2.36605325, 2.38814991, 2.36841828, ..., 2.41359118, 2.41499829,\n",
       "         2.41563433]),\n",
       "  ('SiIII(1207)',\n",
       "   'SiII(1190)'): array([2.35213868, 2.3705801 , 2.35354134, ..., 2.41637907, 2.41772936,\n",
       "         2.41785997]),\n",
       "  ('SiII(1193)',\n",
       "   'SiII(1193)'): array([2.38364925, 2.40579617, 2.38482987, ..., 2.44165538, 2.44223141,\n",
       "         2.44348734]),\n",
       "  ('SiII(1193)',\n",
       "   'SiII(1190)'): array([2.36486717, 2.38432035, 2.36588942, ..., 2.44474283, 2.44580051,\n",
       "         2.44679133]),\n",
       "  ('SiII(1190)',\n",
       "   'SiII(1190)'): array([2.38849387, 2.41055635, 2.3893289 , ..., 2.44595295, 2.44642384,\n",
       "         2.4477351 ])},\n",
       " '_cholesky': None,\n",
       " '_scale': 1.0}"
      ]
     },
     "execution_count": 6,
     "metadata": {},
     "output_type": "execute_result"
    }
   ],
   "source": [
    "vega.data['lyaxlya'].__dict__"
   ]
  },
  {
   "cell_type": "markdown",
   "metadata": {},
   "source": [
    "All of this data is optional if you just want to play with models, however we still need to define some coordinate grids before we go to model computation."
   ]
  },
  {
   "cell_type": "code",
   "execution_count": 7,
   "metadata": {},
   "outputs": [],
   "source": [
    "# For example:\n",
    "rp_vals = np.linspace(0,196,50) + 2\n",
    "rt_vals = np.linspace(0,196,50) + 2\n",
    "\n",
    "rt_grid, rp_grid = np.meshgrid(rp_vals, rt_vals)\n",
    "\n",
    "# Overwrite rp_rt grid:\n",
    "# vega.corr_items['lyaxlya'].rp_rt_grid = [rp_grid.flatten(), rt_grid.flatten()]\n",
    "\n",
    "# Additionally you can specify the r_mu grid:\n",
    "# vega.corr_items['lyaxlya'].r_mu_grid = [r_grid.flatten(), mu_grid.flatten()]\n",
    "\n",
    "# Overwrite z grid. This can also take a float\n",
    "# vega.corr_items['lyaxlya'].z_grid = lyafit.fiducial['z_eff']"
   ]
  },
  {
   "cell_type": "markdown",
   "metadata": {},
   "source": [
    "Only one of rp/rt and r/mu grids should be specified as the other is automatically computed under the hood"
   ]
  },
  {
   "cell_type": "markdown",
   "metadata": {},
   "source": [
    "## Next, lets look at how we compute a model"
   ]
  },
  {
   "cell_type": "markdown",
   "metadata": {},
   "source": [
    "The interface stores Model objects in a dictionary for each component, equivalent to what we've seen above"
   ]
  },
  {
   "cell_type": "code",
   "execution_count": 8,
   "metadata": {},
   "outputs": [
    {
     "data": {
      "text/plain": [
       "{'lyaxlya': <vega.model.Model at 0x7f9ebc07a710>,\n",
       " 'qsoxlya': <vega.model.Model at 0x7f9ebc07a550>}"
      ]
     },
     "execution_count": 8,
     "metadata": {},
     "output_type": "execute_result"
    }
   ],
   "source": [
    "vega.models"
   ]
  },
  {
   "cell_type": "markdown",
   "metadata": {},
   "source": [
    "These Model objects store PowerSpectra and CorrelationFunction objects for the core components and for all the metal correlations"
   ]
  },
  {
   "cell_type": "code",
   "execution_count": 9,
   "metadata": {},
   "outputs": [
    {
     "data": {
      "text/plain": [
       "{'_corr_item': <vega.correlation_item.CorrelationItem at 0x7f9ebd42f7d0>,\n",
       " '_coords_grid': {'r': array([  3.40469972,   6.53410819,  10.34075795, ..., 274.40318427,\n",
       "         277.18617131, 280.00352328]),\n",
       "  'mu': array([0.61075071, 0.3177079 , 0.20085781, ..., 0.72147958, 0.71422687,\n",
       "         0.70705152]),\n",
       "  'z': array([2.36224365, 2.36032967, 2.35955733, ..., 2.38663466, 2.38652742,\n",
       "         2.38631922])},\n",
       " '_data': <vega.data.Data at 0x7f9ebe9d6110>,\n",
       " '_full_shape': False,\n",
       " '_smooth_scaling': False,\n",
       " '_has_distortion_mat': True,\n",
       " 'save_components': False,\n",
       " 'bb_config': None,\n",
       " 'Pk_core': <vega.power_spectrum.PowerSpectrum at 0x7f9ebc07a650>,\n",
       " 'Xi_core': <vega.correlation_func.CorrelationFunction at 0x7f9ebd8a4b90>,\n",
       " 'Pk_metal': {('LYA',\n",
       "   'CIV(eff)'): <vega.power_spectrum.PowerSpectrum at 0x7f9ebc07a9d0>,\n",
       "  ('LYA', 'SiII(1260)'): <vega.power_spectrum.PowerSpectrum at 0x7f9ebc07ac90>,\n",
       "  ('LYA',\n",
       "   'SiIII(1207)'): <vega.power_spectrum.PowerSpectrum at 0x7f9ebc07a350>,\n",
       "  ('LYA', 'SiII(1193)'): <vega.power_spectrum.PowerSpectrum at 0x7f9ebc07a410>,\n",
       "  ('LYA', 'SiII(1190)'): <vega.power_spectrum.PowerSpectrum at 0x7f9ebc07a110>,\n",
       "  ('CIV(eff)', 'LYA'): <vega.power_spectrum.PowerSpectrum at 0x7f9ebc07a190>,\n",
       "  ('SiII(1260)', 'LYA'): <vega.power_spectrum.PowerSpectrum at 0x7f9ebc07ac10>,\n",
       "  ('SiIII(1207)',\n",
       "   'LYA'): <vega.power_spectrum.PowerSpectrum at 0x7f9ebc07afd0>,\n",
       "  ('SiII(1193)', 'LYA'): <vega.power_spectrum.PowerSpectrum at 0x7f9ebc07a390>,\n",
       "  ('SiII(1190)', 'LYA'): <vega.power_spectrum.PowerSpectrum at 0x7f9ebc07a450>,\n",
       "  ('CIV(eff)',\n",
       "   'CIV(eff)'): <vega.power_spectrum.PowerSpectrum at 0x7f9ebc07ae90>,\n",
       "  ('CIV(eff)',\n",
       "   'SiII(1260)'): <vega.power_spectrum.PowerSpectrum at 0x7f9ebc07a4d0>,\n",
       "  ('CIV(eff)',\n",
       "   'SiIII(1207)'): <vega.power_spectrum.PowerSpectrum at 0x7f9ebc07a090>,\n",
       "  ('CIV(eff)',\n",
       "   'SiII(1193)'): <vega.power_spectrum.PowerSpectrum at 0x7f9ebc07a690>,\n",
       "  ('CIV(eff)',\n",
       "   'SiII(1190)'): <vega.power_spectrum.PowerSpectrum at 0x7f9ebc07aed0>,\n",
       "  ('SiII(1260)',\n",
       "   'SiII(1260)'): <vega.power_spectrum.PowerSpectrum at 0x7f9ebc07ad90>,\n",
       "  ('SiII(1260)',\n",
       "   'SiIII(1207)'): <vega.power_spectrum.PowerSpectrum at 0x7f9ebc07aad0>,\n",
       "  ('SiII(1260)',\n",
       "   'SiII(1193)'): <vega.power_spectrum.PowerSpectrum at 0x7f9ebc07a490>,\n",
       "  ('SiII(1260)',\n",
       "   'SiII(1190)'): <vega.power_spectrum.PowerSpectrum at 0x7f9ebc07add0>,\n",
       "  ('SiIII(1207)',\n",
       "   'SiIII(1207)'): <vega.power_spectrum.PowerSpectrum at 0x7f9ebc07ac50>,\n",
       "  ('SiIII(1207)',\n",
       "   'SiII(1193)'): <vega.power_spectrum.PowerSpectrum at 0x7f9ebc07af90>,\n",
       "  ('SiIII(1207)',\n",
       "   'SiII(1190)'): <vega.power_spectrum.PowerSpectrum at 0x7f9ebc07ab50>,\n",
       "  ('SiII(1193)',\n",
       "   'SiII(1193)'): <vega.power_spectrum.PowerSpectrum at 0x7f9eb591dd90>,\n",
       "  ('SiII(1193)',\n",
       "   'SiII(1190)'): <vega.power_spectrum.PowerSpectrum at 0x7f9eb591d0d0>,\n",
       "  ('SiII(1190)',\n",
       "   'SiII(1190)'): <vega.power_spectrum.PowerSpectrum at 0x7f9eb591df10>},\n",
       " 'Xi_metal': {('LYA',\n",
       "   'CIV(eff)'): <vega.correlation_func.CorrelationFunction at 0x7f9ebc07a5d0>,\n",
       "  ('LYA',\n",
       "   'SiII(1260)'): <vega.correlation_func.CorrelationFunction at 0x7f9ebc07a510>,\n",
       "  ('LYA',\n",
       "   'SiIII(1207)'): <vega.correlation_func.CorrelationFunction at 0x7f9ebc07a150>,\n",
       "  ('LYA',\n",
       "   'SiII(1193)'): <vega.correlation_func.CorrelationFunction at 0x7f9ebc07a310>,\n",
       "  ('LYA',\n",
       "   'SiII(1190)'): <vega.correlation_func.CorrelationFunction at 0x7f9ebc07a2d0>,\n",
       "  ('CIV(eff)',\n",
       "   'LYA'): <vega.correlation_func.CorrelationFunction at 0x7f9ebc07a590>,\n",
       "  ('SiII(1260)',\n",
       "   'LYA'): <vega.correlation_func.CorrelationFunction at 0x7f9ebc07a1d0>,\n",
       "  ('SiIII(1207)',\n",
       "   'LYA'): <vega.correlation_func.CorrelationFunction at 0x7f9ebc07a050>,\n",
       "  ('SiII(1193)',\n",
       "   'LYA'): <vega.correlation_func.CorrelationFunction at 0x7f9ebc07acd0>,\n",
       "  ('SiII(1190)',\n",
       "   'LYA'): <vega.correlation_func.CorrelationFunction at 0x7f9ebc07abd0>,\n",
       "  ('CIV(eff)',\n",
       "   'CIV(eff)'): <vega.correlation_func.CorrelationFunction at 0x7f9ebc07ab10>,\n",
       "  ('CIV(eff)',\n",
       "   'SiII(1260)'): <vega.correlation_func.CorrelationFunction at 0x7f9ebc07a0d0>,\n",
       "  ('CIV(eff)',\n",
       "   'SiIII(1207)'): <vega.correlation_func.CorrelationFunction at 0x7f9ebc07aa50>,\n",
       "  ('CIV(eff)',\n",
       "   'SiII(1193)'): <vega.correlation_func.CorrelationFunction at 0x7f9ebc07a750>,\n",
       "  ('CIV(eff)',\n",
       "   'SiII(1190)'): <vega.correlation_func.CorrelationFunction at 0x7f9ebc07ae50>,\n",
       "  ('SiII(1260)',\n",
       "   'SiII(1260)'): <vega.correlation_func.CorrelationFunction at 0x7f9ebc07a3d0>,\n",
       "  ('SiII(1260)',\n",
       "   'SiIII(1207)'): <vega.correlation_func.CorrelationFunction at 0x7f9ebc07a290>,\n",
       "  ('SiII(1260)',\n",
       "   'SiII(1193)'): <vega.correlation_func.CorrelationFunction at 0x7f9ebc07ae10>,\n",
       "  ('SiII(1260)',\n",
       "   'SiII(1190)'): <vega.correlation_func.CorrelationFunction at 0x7f9ebc07ad50>,\n",
       "  ('SiIII(1207)',\n",
       "   'SiIII(1207)'): <vega.correlation_func.CorrelationFunction at 0x7f9ebc07af10>,\n",
       "  ('SiIII(1207)',\n",
       "   'SiII(1193)'): <vega.correlation_func.CorrelationFunction at 0x7f9ebc07aa90>,\n",
       "  ('SiIII(1207)',\n",
       "   'SiII(1190)'): <vega.correlation_func.CorrelationFunction at 0x7f9ebc07af50>,\n",
       "  ('SiII(1193)',\n",
       "   'SiII(1193)'): <vega.correlation_func.CorrelationFunction at 0x7f9eb591dfd0>,\n",
       "  ('SiII(1193)',\n",
       "   'SiII(1190)'): <vega.correlation_func.CorrelationFunction at 0x7f9eb591dbd0>,\n",
       "  ('SiII(1190)',\n",
       "   'SiII(1190)'): <vega.correlation_func.CorrelationFunction at 0x7f9eb591d090>},\n",
       " '_has_metal_mats': True}"
      ]
     },
     "execution_count": 9,
     "metadata": {},
     "output_type": "execute_result"
    }
   ],
   "source": [
    "vega.models['lyaxlya'].__dict__"
   ]
  },
  {
   "cell_type": "markdown",
   "metadata": {},
   "source": [
    "The PowerSpectrum and CorrelationFunction objects each have many functions of the form \"compute_x()\". These can be called from outside and will not modify the internal state of the object. E.g.:"
   ]
  },
  {
   "cell_type": "code",
   "execution_count": 11,
   "metadata": {},
   "outputs": [
    {
     "name": "stdout",
     "output_type": "stream",
     "text": [
      "[[1. 1. 1. ... 0. 0. 0.]\n",
      " [1. 1. 1. ... 0. 0. 0.]\n",
      " [1. 1. 1. ... 0. 0. 0.]\n",
      " ...\n",
      " [1. 1. 1. ... 0. 0. 0.]\n",
      " [1. 1. 1. ... 0. 0. 0.]\n",
      " [1. 1. 1. ... 0. 0. 0.]]\n"
     ]
    }
   ],
   "source": [
    "print(vega.models['lyaxlya'].Pk_core.compute_dnl_arinyo(vega.params))"
   ]
  },
  {
   "cell_type": "markdown",
   "metadata": {},
   "source": [
    "These are all the other options currently available for the PowerSpectrum:"
   ]
  },
  {
   "cell_type": "code",
   "execution_count": 17,
   "metadata": {},
   "outputs": [
    {
     "data": {
      "text/plain": [
       "<bound method PowerSpectrum.compute_bias_beta_hcd of <vega.power_spectrum.PowerSpectrum object at 0x7f9ebc07a650>>"
      ]
     },
     "execution_count": 17,
     "metadata": {},
     "output_type": "execute_result"
    }
   ],
   "source": [
    "vega.models['lyaxlya'].Pk_core.compute_kaiser\n",
    "vega.models['lyaxlya'].Pk_core.compute_peak_nl\n",
    "vega.models['lyaxlya'].Pk_core.compute_bias_beta_hcd\n",
    "vega.models['lyaxlya'].Pk_core.compute_bias_beta_uv\n",
    "vega.models['lyaxlya'].Pk_core.compute_dnl_mcdonald\n",
    "vega.models['lyaxlya'].Pk_core.compute_dnl_arinyo\n",
    "vega.models['lyaxlya'].Pk_core.compute_fullshape_exp_smoothing\n",
    "vega.models['lyaxlya'].Pk_core.compute_fullshape_gauss_smoothing\n",
    "vega.models['lyaxlya'].Pk_core.compute_Gk\n",
    "vega.models['lyaxlya'].Pk_core.compute_velocity_dispersion_gauss\n",
    "vega.models['lyaxlya'].Pk_core.compute_velocity_dispersion_lorentz"
   ]
  },
  {
   "cell_type": "markdown",
   "metadata": {},
   "source": [
    "And for the CorrelationFunction:"
   ]
  },
  {
   "cell_type": "code",
   "execution_count": 18,
   "metadata": {},
   "outputs": [
    {
     "data": {
      "text/plain": [
       "<bound method CorrelationFunction.compute_xi_relativistic of <vega.correlation_func.CorrelationFunction object at 0x7f9ebd8a4b90>>"
      ]
     },
     "execution_count": 18,
     "metadata": {},
     "output_type": "execute_result"
    }
   ],
   "source": [
    "vega.models['lyaxlya'].Xi_core.compute_bias_evol\n",
    "vega.models['lyaxlya'].Xi_core.compute_broadband\n",
    "vega.models['lyaxlya'].Xi_core.compute_core\n",
    "vega.models['lyaxlya'].Xi_core.compute_growth\n",
    "vega.models['lyaxlya'].Xi_core.compute_qso_radiation\n",
    "vega.models['lyaxlya'].Xi_core.compute_xi_asymmetry\n",
    "vega.models['lyaxlya'].Xi_core.compute_xi_relativistic"
   ]
  },
  {
   "cell_type": "markdown",
   "metadata": {},
   "source": [
    "If you want to manually compute a full model correlation function for the core or for one of the metal correlations, you can do something like this:"
   ]
  },
  {
   "cell_type": "code",
   "execution_count": null,
   "metadata": {},
   "outputs": [],
   "source": [
    "# Compute core model correlation function\n",
    "# k, muk, pk_model = self.Pk_core.compute(pk_lin, pars)\n",
    "# xi_model = self.Xi_core.compute(k, muk, pk_model, pk_lin, pars)"
   ]
  },
  {
   "cell_type": "markdown",
   "metadata": {},
   "source": [
    "If you don't want to have to specify the fiducial Pks, you can find them in the fiducial dictionary:"
   ]
  },
  {
   "cell_type": "code",
   "execution_count": 20,
   "metadata": {},
   "outputs": [
    {
     "data": {
      "text/plain": [
       "dict_keys(['z_fiducial', 'Omega_m', 'Omega_de', 'k', 'pk_full', 'pk_smooth', 'full-shape', 'smooth-scaling', 'z_eff'])"
      ]
     },
     "execution_count": 20,
     "metadata": {},
     "output_type": "execute_result"
    }
   ],
   "source": [
    "vega.fiducial.keys()"
   ]
  },
  {
   "cell_type": "markdown",
   "metadata": {},
   "source": [
    "### If you don't want to do all this work to manually compute individual components, Vega can also automatically save everything for you, when computing the full model:"
   ]
  },
  {
   "cell_type": "code",
   "execution_count": 22,
   "metadata": {},
   "outputs": [],
   "source": [
    "vega.fiducial['save-components'] = True\n",
    "bestfit_models = vega.compute_model(vega.params)"
   ]
  },
  {
   "cell_type": "markdown",
   "metadata": {},
   "source": [
    "This will store 3 big dictionaries in the Model objects: pk, xi and xi_distorted. These all have 'peak' and 'smooth' components"
   ]
  },
  {
   "cell_type": "code",
   "execution_count": 27,
   "metadata": {
    "tags": []
   },
   "outputs": [
    {
     "data": {
      "text/plain": [
       "{('LYA', 'CIV(eff)'): array([0., 0., 0., ..., 0., 0., 0.]),\n",
       " ('LYA',\n",
       "  'SiII(1260)'): array([-2.88540605e-06, -3.00625103e-06, -2.89202783e-06, ...,\n",
       "        -1.82416766e-08, -1.57182585e-08, -1.38744672e-08]),\n",
       " ('LYA',\n",
       "  'SiIII(1207)'): array([-1.62354413e-05, -1.13206508e-05, -3.69433250e-06, ...,\n",
       "        -5.46471667e-08, -5.11270796e-08, -4.16358196e-08]),\n",
       " ('LYA',\n",
       "  'SiII(1193)'): array([-1.02848606e-05, -1.04009385e-05, -9.62094729e-06, ...,\n",
       "        -5.61748097e-08, -5.14135919e-08, -3.20297996e-08]),\n",
       " ('LYA',\n",
       "  'SiII(1190)'): array([-8.57700523e-06, -8.73718169e-06, -8.18195245e-06, ...,\n",
       "        -5.43705564e-08, -4.96404092e-08, -2.89908666e-08]),\n",
       " ('CIV(eff)', 'LYA'): array([0., 0., 0., ..., 0., 0., 0.]),\n",
       " ('SiII(1260)',\n",
       "  'LYA'): array([-2.88540605e-06, -3.00625103e-06, -2.89202783e-06, ...,\n",
       "        -1.82416766e-08, -1.57182585e-08, -1.38744672e-08]),\n",
       " ('SiIII(1207)',\n",
       "  'LYA'): array([-1.62354413e-05, -1.13206508e-05, -3.69433250e-06, ...,\n",
       "        -5.46471667e-08, -5.11270796e-08, -4.16358196e-08]),\n",
       " ('SiII(1193)',\n",
       "  'LYA'): array([-1.02848606e-05, -1.04009385e-05, -9.62094729e-06, ...,\n",
       "        -5.61748097e-08, -5.14135919e-08, -3.20297996e-08]),\n",
       " ('SiII(1190)',\n",
       "  'LYA'): array([-8.57700523e-06, -8.73718169e-06, -8.18195245e-06, ...,\n",
       "        -5.43705564e-08, -4.96404092e-08, -2.89908666e-08]),\n",
       " ('CIV(eff)',\n",
       "  'CIV(eff)'): array([8.60608283e-05, 4.54907952e-05, 2.75972749e-05, ...,\n",
       "        0.00000000e+00, 0.00000000e+00, 0.00000000e+00]),\n",
       " ('CIV(eff)', 'SiII(1260)'): array([0., 0., 0., ..., 0., 0., 0.]),\n",
       " ('CIV(eff)', 'SiIII(1207)'): array([0., 0., 0., ..., 0., 0., 0.]),\n",
       " ('CIV(eff)', 'SiII(1193)'): array([0., 0., 0., ..., 0., 0., 0.]),\n",
       " ('CIV(eff)', 'SiII(1190)'): array([0., 0., 0., ..., 0., 0., 0.]),\n",
       " ('SiII(1260)',\n",
       "  'SiII(1260)'): array([ 1.22518618e-04,  5.78932564e-05,  3.19429192e-05, ...,\n",
       "        -2.07512690e-09, -1.98975300e-09, -1.90007851e-09]),\n",
       " ('SiII(1260)',\n",
       "  'SiIII(1207)'): array([-1.41510627e-07, -1.41812153e-07, -1.39979305e-07, ...,\n",
       "        -1.41430183e-09, -1.27609377e-09, -1.17661519e-09]),\n",
       " ('SiII(1260)',\n",
       "  'SiII(1193)'): array([-8.16716033e-08, -8.21110810e-08, -8.11182029e-08, ...,\n",
       "         1.41316520e-09,  1.33028956e-09,  1.24275781e-09]),\n",
       " ('SiII(1260)',\n",
       "  'SiII(1190)'): array([-7.21059465e-08, -7.25598224e-08, -7.16764291e-08, ...,\n",
       "         1.95190986e-09,  1.82077413e-09,  1.69261931e-09]),\n",
       " ('SiIII(1207)',\n",
       "  'SiIII(1207)'): array([ 1.22217976e-04,  5.79658672e-05,  3.11024940e-05, ...,\n",
       "        -7.12317985e-09, -6.74737620e-09, -4.70659524e-09]),\n",
       " ('SiIII(1207)',\n",
       "  'SiII(1193)'): array([-1.49170347e-07, -6.43636681e-08,  5.54278437e-08, ...,\n",
       "        -4.07493453e-09, -3.78728281e-09, -1.91750276e-09]),\n",
       " ('SiIII(1207)',\n",
       "  'SiII(1190)'): array([-4.43727978e-07, -3.96999316e-07, -3.22391512e-07, ...,\n",
       "        -4.19447920e-09, -3.87769430e-09, -1.80278668e-09]),\n",
       " ('SiII(1193)',\n",
       "  'SiII(1193)'): array([ 1.19910635e-04,  5.71253657e-05,  3.06637422e-05, ...,\n",
       "        -7.02545295e-09, -6.64891165e-09, -2.19134941e-09]),\n",
       " ('SiII(1193)',\n",
       "  'SiII(1190)'): array([ 4.25851479e-05,  2.84335452e-05,  1.92743036e-05, ...,\n",
       "        -3.62585604e-09, -3.42797526e-09, -9.88624365e-10]),\n",
       " ('SiII(1190)',\n",
       "  'SiII(1190)'): array([ 1.19495451e-04,  5.69712778e-05,  3.05720814e-05, ...,\n",
       "        -7.00349078e-09, -6.62663462e-09, -1.64550663e-09]),\n",
       " 'core': array([ 1.05838502e-02,  5.71959174e-03,  3.22914502e-03, ...,\n",
       "        -1.17167086e-06, -1.07017466e-06, -9.43636264e-07])}"
      ]
     },
     "execution_count": 27,
     "metadata": {},
     "output_type": "execute_result"
    }
   ],
   "source": [
    "vega.models['lyaxlya'].pk['peak']\n",
    "vega.models['lyaxlya'].xi['peak']\n",
    "vega.models['lyaxlya'].xi_distorted['peak']\n",
    "vega.models['lyaxlya'].pk['smooth']\n",
    "vega.models['lyaxlya'].xi['smooth']\n",
    "vega.models['lyaxlya'].xi_distorted['smooth']"
   ]
  },
  {
   "cell_type": "markdown",
   "metadata": {},
   "source": [
    "Each of the dictionaries above stores all the individual components from each correlation indexed using 'core' or ('tracer1', 'tracer2') for metal correlations:"
   ]
  },
  {
   "cell_type": "code",
   "execution_count": 28,
   "metadata": {},
   "outputs": [
    {
     "data": {
      "text/plain": [
       "dict_keys(['core', ('LYA', 'CIV(eff)'), ('LYA', 'SiII(1260)'), ('LYA', 'SiIII(1207)'), ('LYA', 'SiII(1193)'), ('LYA', 'SiII(1190)'), ('CIV(eff)', 'LYA'), ('SiII(1260)', 'LYA'), ('SiIII(1207)', 'LYA'), ('SiII(1193)', 'LYA'), ('SiII(1190)', 'LYA'), ('CIV(eff)', 'CIV(eff)'), ('CIV(eff)', 'SiII(1260)'), ('CIV(eff)', 'SiIII(1207)'), ('CIV(eff)', 'SiII(1193)'), ('CIV(eff)', 'SiII(1190)'), ('SiII(1260)', 'SiII(1260)'), ('SiII(1260)', 'SiIII(1207)'), ('SiII(1260)', 'SiII(1193)'), ('SiII(1260)', 'SiII(1190)'), ('SiIII(1207)', 'SiIII(1207)'), ('SiIII(1207)', 'SiII(1193)'), ('SiIII(1207)', 'SiII(1190)'), ('SiII(1193)', 'SiII(1193)'), ('SiII(1193)', 'SiII(1190)'), ('SiII(1190)', 'SiII(1190)')])"
      ]
     },
     "execution_count": 28,
     "metadata": {},
     "output_type": "execute_result"
    }
   ],
   "source": [
    "vega.models['lyaxlya'].pk['smooth'].keys()"
   ]
  },
  {
   "cell_type": "code",
   "execution_count": null,
   "metadata": {},
   "outputs": [],
   "source": []
  }
 ],
 "metadata": {
  "kernelspec": {
   "display_name": "Python 3 (ipykernel)",
   "language": "python",
   "name": "python3"
  },
  "language_info": {
   "codemirror_mode": {
    "name": "ipython",
    "version": 3
   },
   "file_extension": ".py",
   "mimetype": "text/x-python",
   "name": "python",
   "nbconvert_exporter": "python",
   "pygments_lexer": "ipython3",
   "version": "3.10.6"
  }
 },
 "nbformat": 4,
 "nbformat_minor": 4
}
